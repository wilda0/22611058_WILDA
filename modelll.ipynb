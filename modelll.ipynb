{
  "cells": [
    {
      "cell_type": "code",
      "execution_count": 31,
      "metadata": {
        "id": "SsQeO7RV0N3F"
      },
      "outputs": [],
      "source": [
        "import pandas as pd"
      ]
    },
    {
      "cell_type": "code",
      "execution_count": 32,
      "metadata": {
        "id": "X7FS07uX0N3I"
      },
      "outputs": [],
      "source": [
        "df = pd.read_csv('onlinefoods.csv')"
      ]
    },
    {
      "cell_type": "code",
      "execution_count": 33,
      "metadata": {
        "id": "V665TLJt0N3K"
      },
      "outputs": [],
      "source": [
        "df = df.drop(columns=['Unnamed: 12'])"
      ]
    },
    {
      "cell_type": "code",
      "execution_count": 34,
      "metadata": {
        "id": "C7MQLKoa0N3M"
      },
      "outputs": [],
      "source": [
        "from sklearn.preprocessing import MinMaxScaler, StandardScaler, RobustScaler\n",
        "numeric = ['Age', 'Family size', 'latitude', 'longitude', 'Pin code']\n",
        "df_scaled = df.copy()\n",
        "standardscaler = StandardScaler()\n",
        "df_scaled[numeric] = standardscaler.fit_transform(df[numeric])"
      ]
    },
    {
      "cell_type": "code",
      "execution_count": 35,
      "metadata": {
        "colab": {
          "base_uri": "https://localhost:8080/"
        },
        "id": "TWXeHN8j0N3N",
        "outputId": "7270e9f0-fa86-4104-a56b-e9ba9b7561ef"
      },
      "outputs": [
        {
          "output_type": "stream",
          "name": "stdout",
          "text": [
            "Fitting 5 folds for each of 120 candidates, totalling 600 fits\n"
          ]
        }
      ],
      "source": [
        "from sklearn.model_selection import train_test_split, GridSearchCV\n",
        "from sklearn.preprocessing import LabelEncoder, StandardScaler\n",
        "from sklearn.datasets import make_classification\n",
        "from sklearn.pipeline import Pipeline\n",
        "from sklearn.svm import SVC\n",
        "from sklearn.svm import SVR\n",
        "from sklearn.metrics import accuracy_score\n",
        "\n",
        "df_svm = df\n",
        "\n",
        "categorical = ['Gender', 'Marital Status', 'Occupation', 'Monthly Income',\n",
        "               'Educational Qualifications', 'Feedback']\n",
        "\n",
        "label_encoders = {}\n",
        "for column in categorical:\n",
        "    le = LabelEncoder()\n",
        "    df_svm[column] = le.fit_transform(df_svm[column])\n",
        "    label_encoders[column] = le\n",
        "\n",
        "X = df_svm.drop(columns=['Output'])\n",
        "y = LabelEncoder().fit_transform(df_svm['Output'])\n",
        "\n",
        "scaler = StandardScaler()\n",
        "X_scaled = scaler.fit_transform(X)\n",
        "\n",
        "X_train, X_test, y_train, y_test = train_test_split(X_scaled, y,\n",
        "                                                     test_size = 0.2,\n",
        "                                                     random_state = 42)\n",
        "\n",
        "svm_model = SVC(kernel = 'linear', C = 1.0, random_state = 42)\n",
        "\n",
        "pipeline = Pipeline([\n",
        "    ('scaler', scaler),\n",
        "    ('svm', svm_model)\n",
        "])\n",
        "\n",
        "param_grid = {\n",
        "    'svm__kernel': ['linear', 'rbf', 'poly', 'sigmoid'],\n",
        "    'svm__C': [0.01, 0.1, 1, 10, 100],\n",
        "    'svm__gamma': ['scale', 'auto'],\n",
        "    'svm__degree': [2, 3, 4],\n",
        "}\n",
        "grid_search = GridSearchCV(estimator = pipeline, param_grid = param_grid, cv = 5, scoring = 'accuracy', n_jobs = -1, verbose = 1)\n",
        "grid_search.fit(X_train, y_train)\n",
        "\n",
        "best_model = grid_search.best_estimator_\n",
        "y_pred = best_model.predict(X_test)\n",
        "\n",
        "import pickle\n",
        "filename = 'modelfiks.sav'\n",
        "pickle.dump(best_model,open(filename,'wb'))"
      ]
    }
  ],
  "metadata": {
    "kernelspec": {
      "display_name": "base",
      "language": "python",
      "name": "python3"
    },
    "language_info": {
      "codemirror_mode": {
        "name": "ipython",
        "version": 3
      },
      "file_extension": ".py",
      "mimetype": "text/x-python",
      "name": "python",
      "nbconvert_exporter": "python",
      "pygments_lexer": "ipython3",
      "version": "3.11.7"
    },
    "colab": {
      "provenance": []
    }
  },
  "nbformat": 4,
  "nbformat_minor": 0
}